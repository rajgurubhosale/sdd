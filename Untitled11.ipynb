{
  "nbformat": 4,
  "nbformat_minor": 0,
  "metadata": {
    "colab": {
      "provenance": [],
      "authorship_tag": "ABX9TyOpXWNdS8vxI1y//AhvZ7c8",
      "include_colab_link": true
    },
    "kernelspec": {
      "name": "python3",
      "display_name": "Python 3"
    },
    "language_info": {
      "name": "python"
    }
  },
  "cells": [
    {
      "cell_type": "markdown",
      "metadata": {
        "id": "view-in-github",
        "colab_type": "text"
      },
      "source": [
        "<a href=\"https://colab.research.google.com/github/rajgurubhosale/sdd/blob/main/Untitled11.ipynb\" target=\"_parent\"><img src=\"https://colab.research.google.com/assets/colab-badge.svg\" alt=\"Open In Colab\"/></a>"
      ]
    },
    {
      "cell_type": "code",
      "execution_count": null,
      "metadata": {
        "id": "eStqlp6f1r6H"
      },
      "outputs": [],
      "source": [
        "#guess my brothers name\n",
        "secret_word = \"shubham\"\n",
        "guess=\"\"\n",
        "guess_limit = 5\n",
        "guess_count = 0\n",
        "\n",
        "\n",
        "while guess != secret_word:\n",
        "    guess=input(\"try guessing\") \n",
        "    guess_count +=1\n",
        "    if guess_count == guess_limit:\n",
        "        print(\"you are out of guesses\")\n",
        "        break\n",
        "    elif guess == secret_word:\n",
        "        print(\"Congratulations, you guessed my brother's name!\")\n",
        "        break"
      ]
    }
  ]
}